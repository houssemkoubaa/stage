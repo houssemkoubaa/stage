{
 "cells": [
  {
   "cell_type": "code",
   "execution_count": 19,
   "metadata": {},
   "outputs": [
    {
     "name": "stdout",
     "output_type": "stream",
     "text": [
      "er23\n"
     ]
    }
   ],
   "source": [
    "a = 23\n",
    "l =['er23', 'sdf24']\n",
    "for i in range(2):\n",
    "    if str(a) in l[i]:\n",
    "        print(l[i])\n"
   ]
  },
  {
   "cell_type": "code",
   "execution_count": null,
   "metadata": {},
   "outputs": [],
   "source": []
  }
 ],
 "metadata": {
  "kernelspec": {
   "display_name": "Python 3.10.5 64-bit",
   "language": "python",
   "name": "python3"
  },
  "language_info": {
   "codemirror_mode": {
    "name": "ipython",
    "version": 3
   },
   "file_extension": ".py",
   "mimetype": "text/x-python",
   "name": "python",
   "nbconvert_exporter": "python",
   "pygments_lexer": "ipython3",
   "version": "3.10.5"
  },
  "orig_nbformat": 4,
  "vscode": {
   "interpreter": {
    "hash": "1502975bd3e8003c3ae4258780d16911e55aea8cb4c0ab938a4950c1487d8e87"
   }
  }
 },
 "nbformat": 4,
 "nbformat_minor": 2
}
